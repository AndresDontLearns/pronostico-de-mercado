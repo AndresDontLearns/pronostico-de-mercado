{
 "cells": [
  {
   "cell_type": "code",
   "execution_count": null,
   "metadata": {},
   "outputs": [],
   "source": [
    "#Importación de librerias\n",
    "from facebook_scraper import get_posts\n",
    "import pandas as pd"
   ]
  },
  {
   "cell_type": "code",
   "execution_count": null,
   "metadata": {},
   "outputs": [],
   "source": [
    "PPP = 100\n",
    "postID = []\n",
    "fecha = []\n",
    "coments = []\n",
    "likes = []\n",
    "reactions =[]\n",
    "count_r = []\n",
    "shares = []\n",
    "\n",
    "#El grupo 23369... es Compra y venta Santiago de Chile\n",
    "#La variable page_limit y PPP determinan la cantidad de publicaciones que se obtienen\n",
    "#En este caso se descargó un año de publicaciones\n",
    "for post in get_posts(group=2336974279945613, page_limit = 2400,extra_info = True,options={'allow_extra_requests':False,'posts_per_page': PPP}, ):\n",
    "    postID.append(post['post_id'])\n",
    "    time = post['time']\n",
    "    fecha.append(time)\n",
    "    coments.append(post['comments'])\n",
    "    likes.append(post['likes'])\n",
    "    reactions.append(post['reactions'])\n",
    "    count_r.append(post['reaction_count'])\n",
    "    shares.append(post['shares'])"
   ]
  },
  {
   "cell_type": "code",
   "execution_count": null,
   "metadata": {},
   "outputs": [],
   "source": [
    "# Se guarda la información obtenida del grupo\n",
    "df = pd.DataFrame({'PageID':postID,'Fecha':fecha,'Comentarios':coments,'Likes':likes})\n",
    "\n",
    "df=df.set_index('PageID')\n",
    "\n",
    "df.to_csv('/Users/AndresG/Desktop/Python-Shits/Proyectos-Pymetools/FacebookScrap/facebook.csv',index=True,sep= \";\", encoding = 'latin-1', decimal =\",\", date_format=\"%d-%m-%Y %H:%M:%S\")"
   ]
  }
 ],
 "metadata": {
  "language_info": {
   "name": "python"
  },
  "orig_nbformat": 4
 },
 "nbformat": 4,
 "nbformat_minor": 2
}
